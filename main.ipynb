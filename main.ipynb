{
 "cells": [
  {
   "cell_type": "code",
   "execution_count": 1,
   "metadata": {},
   "outputs": [],
   "source": [
    "import ode4\n",
    "import controller\n",
    "import ukf\n",
    "import numpy as np\n",
    "import os\n",
    "import pinocchio as pin\n",
    "\n",
    "from ode4 import quat_to_rpy\n",
    "import matplotlib.pyplot as plt\n",
    "from tqdm.notebook import tqdm\n",
    "\n",
    "\n",
    "\n",
    "DEBUG = True"
   ]
  },
  {
   "cell_type": "markdown",
   "metadata": {},
   "source": [
    "Build a reduced model of the robot. If, when building the model of pinocchio from the Urdf file, we specify pin.JointModelFreeFlyer(), a special joint representing the floating base is added. This floating base adds 6 more degrees of freedom (nv + 6) that includes the translation in three dimensions (x, y, z) and the rotation in three dimensions (roll, pitch, yaw), that added to the 2 degrees of freedom of the wheels make up a total of 8 dofs."
   ]
  },
  {
   "cell_type": "code",
   "execution_count": 2,
   "metadata": {},
   "outputs": [
    {
     "name": "stdout",
     "output_type": "stream",
     "text": [
      "Reduced model Nb joints = 4 (nq=11,nv=8)\n",
      "  Joint 0 universe: parent=0\n",
      "  Joint 1 root_joint: parent=0\n",
      "  Joint 2 wheel_left_joint: parent=1\n",
      "  Joint 3 wheel_right_joint: parent=1\n",
      "\n"
     ]
    }
   ],
   "source": [
    "# Initialize the robot model and data \n",
    "urdfFile = os.path.join('tiago.urdf')\n",
    "full_model = pin.buildModelFromUrdf(urdfFile, pin.JointModelFreeFlyer())\n",
    "\n",
    "# Base-related joints to keep\n",
    "base_joints_to_keep = [\n",
    "    'universe',             # Must be kept\n",
    "    'root_joint',           # Floating base\n",
    "    'wheel_left_joint',\n",
    "    'wheel_right_joint',\n",
    "]\n",
    "\n",
    "# Get the IDs of all joints to keep and to lock (all joints except the ones to keep)\n",
    "joints_to_keep_ids = [full_model.getJointId(joint) for joint in base_joints_to_keep if full_model.existJointName(joint)]\n",
    "joints_to_lock_ids = [jid for jid in range(full_model.njoints) if jid not in joints_to_keep_ids]\n",
    "# Set initial position for the joints we want to keep; the rest will be locked\n",
    "initial_joint_config = np.zeros(full_model.nq)\n",
    "\n",
    "# Build the reduced model\n",
    "model = pin.buildReducedModel(full_model, joints_to_lock_ids, initial_joint_config)\n",
    "# Create the data for the reduced model\n",
    "data = model.createData()\n",
    "\n",
    "# Check dimensions of the reduced model\n",
    "print('Reduced model', model)"
   ]
  },
  {
   "cell_type": "code",
   "execution_count": 3,
   "metadata": {},
   "outputs": [
    {
     "name": "stdout",
     "output_type": "stream",
     "text": [
      "Base placement:   R =\n",
      "1 0 0\n",
      "0 1 0\n",
      "0 0 1\n",
      "  p = 0 0 0\n",
      "\n",
      "Base rotation: [[1. 0. 0.]\n",
      " [0. 1. 0.]\n",
      " [0. 0. 1.]]\n",
      "Base translation: [0. 0. 0.]\n",
      "\n",
      "Position (x, y, z): [0. 0. 0.]\n",
      "Translation (w, x, y, z): [0. 0. 0. 1.]\n"
     ]
    }
   ],
   "source": [
    "# Get the placement (position and orientation) of the root joint\n",
    "root_joint_placement = data.oMi[model.getJointId('root_joint')]\n",
    "\n",
    "# Print the placement\n",
    "print('Base placement:', root_joint_placement)\n",
    "print('Base rotation:', root_joint_placement.rotation)\n",
    "print('Base translation:', root_joint_placement.translation)\n",
    "\n",
    "# Get the pose (position and orientation) of the root joint in (x, y, z, quat) format\n",
    "root_joint_pose = pin.SE3ToXYZQUAT(root_joint_placement)  \n",
    "\n",
    "# Print position and orientation\n",
    "print(\"\\nPosition (x, y, z):\", root_joint_pose[:3])\n",
    "print(\"Translation (w, x, y, z):\", root_joint_pose[3:])"
   ]
  },
  {
   "cell_type": "code",
   "execution_count": 4,
   "metadata": {},
   "outputs": [],
   "source": [
    "# Initialize robot configuration and velocity\n",
    "q = pin.neutral(model)\n",
    "v = pin.utils.zero(model.nv)\n",
    "\n",
    "# Set the initial configuration and velocity\n",
    "# x_robot = np.concatenate((quat_to_rpy(q), v))\n",
    "x_robot = np.array([0, 0, 0, 0, 0])      # [x, y, theta, omegaR, omegaL]\n",
    "\n",
    "# Initialize vector field matrix\n",
    "G = np.zeros((model.nv, model.nv))\n",
    "\n",
    "# Define the controller and UKF objects\n",
    "contr = controller.Controller()\n",
    "ukf_est = ukf.UKF()"
   ]
  },
  {
   "cell_type": "code",
   "execution_count": 5,
   "metadata": {},
   "outputs": [
    {
     "data": {
      "application/vnd.jupyter.widget-view+json": {
       "model_id": "aa382ad9ec204835b3426afd5c2c797a",
       "version_major": 2,
       "version_minor": 0
      },
      "text/plain": [
       "process:   0%|          | 0/100 [00:00<?, ?it/s]"
      ]
     },
     "metadata": {},
     "output_type": "display_data"
    },
    {
     "ename": "KeyboardInterrupt",
     "evalue": "",
     "output_type": "error",
     "traceback": [
      "\u001b[0;31m---------------------------------------------------------------------------\u001b[0m",
      "\u001b[0;31mKeyboardInterrupt\u001b[0m                         Traceback (most recent call last)",
      "Cell \u001b[0;32mIn[5], line 28\u001b[0m\n\u001b[1;32m     26\u001b[0m ukf_est\u001b[38;5;241m.\u001b[39mread_measures(x_robot)\n\u001b[1;32m     27\u001b[0m ukf_est\u001b[38;5;241m.\u001b[39mcompute_sigma_points()\n\u001b[0;32m---> 28\u001b[0m \u001b[43mukf_est\u001b[49m\u001b[38;5;241;43m.\u001b[39;49m\u001b[43mpredict\u001b[49m\u001b[43m(\u001b[49m\u001b[43mdt\u001b[49m\u001b[43m)\u001b[49m\n\u001b[1;32m     29\u001b[0m ukf_est\u001b[38;5;241m.\u001b[39mupdate()\n\u001b[1;32m     31\u001b[0m \u001b[38;5;66;03m# Save the robot and estimated positions\u001b[39;00m\n",
      "File \u001b[0;32m~/Desktop/ukf_test/ukf.py:86\u001b[0m, in \u001b[0;36mUKF.predict\u001b[0;34m(self, dt)\u001b[0m\n\u001b[1;32m     84\u001b[0m \u001b[38;5;66;03m# Compute the predicted state mean\u001b[39;00m\n\u001b[1;32m     85\u001b[0m x_pred \u001b[38;5;241m=\u001b[39m np\u001b[38;5;241m.\u001b[39msum(\u001b[38;5;28mself\u001b[39m\u001b[38;5;241m.\u001b[39mWm[:, np\u001b[38;5;241m.\u001b[39mnewaxis] \u001b[38;5;241m*\u001b[39m sigma_points, axis\u001b[38;5;241m=\u001b[39m\u001b[38;5;241m0\u001b[39m)\n\u001b[0;32m---> 86\u001b[0m x_pred[\u001b[38;5;241m2\u001b[39m] \u001b[38;5;241m=\u001b[39m \u001b[43mnormalize_angle\u001b[49m\u001b[43m(\u001b[49m\u001b[43mx_pred\u001b[49m\u001b[43m[\u001b[49m\u001b[38;5;241;43m2\u001b[39;49m\u001b[43m]\u001b[49m\u001b[43m)\u001b[49m \u001b[38;5;66;03m#Normalize between -pi and pi\u001b[39;00m\n\u001b[1;32m     88\u001b[0m \u001b[38;5;66;03m# Compute the predicted state covariance\u001b[39;00m\n\u001b[1;32m     89\u001b[0m P_pred \u001b[38;5;241m=\u001b[39m \u001b[38;5;28mself\u001b[39m\u001b[38;5;241m.\u001b[39mQ\u001b[38;5;241m.\u001b[39mcopy()\n",
      "File \u001b[0;32m~/Desktop/ukf_test/ukf.py:11\u001b[0m, in \u001b[0;36mnormalize_angle\u001b[0;34m(angle)\u001b[0m\n\u001b[1;32m      9\u001b[0m \u001b[38;5;250m\u001b[39m\u001b[38;5;124;03m\"\"\"Normalizza un angolo all'intervallo [-pi, pi].\"\"\"\u001b[39;00m\n\u001b[1;32m     10\u001b[0m \u001b[38;5;28;01mwhile\u001b[39;00m angle \u001b[38;5;241m>\u001b[39m np\u001b[38;5;241m.\u001b[39mpi:\n\u001b[0;32m---> 11\u001b[0m     angle \u001b[38;5;241m-\u001b[39m\u001b[38;5;241m=\u001b[39m \u001b[38;5;241m2\u001b[39m \u001b[38;5;241m*\u001b[39m \u001b[43mnp\u001b[49m\u001b[38;5;241m.\u001b[39mpi            \n\u001b[1;32m     12\u001b[0m \u001b[38;5;28;01mwhile\u001b[39;00m angle \u001b[38;5;241m<\u001b[39m \u001b[38;5;241m-\u001b[39mnp\u001b[38;5;241m.\u001b[39mpi:\n\u001b[1;32m     13\u001b[0m     angle \u001b[38;5;241m+\u001b[39m\u001b[38;5;241m=\u001b[39m \u001b[38;5;241m2\u001b[39m \u001b[38;5;241m*\u001b[39m np\u001b[38;5;241m.\u001b[39mpi\n",
      "\u001b[0;31mKeyboardInterrupt\u001b[0m: "
     ]
    }
   ],
   "source": [
    "# Time step\n",
    "dt = 0.1  # Example time step\n",
    "\n",
    "iL, iR = 0, 0\n",
    "\n",
    "robot_pos = []\n",
    "slipp_params = []\n",
    "est_pos = []\n",
    "est_params = []\n",
    "\n",
    "# Loop for the simulation\n",
    "for i in tqdm(range(26),\"process\"):\n",
    "    # Compute all dynamics terms\n",
    "    pin.computeAllTerms(model, data, q, v)\n",
    "\n",
    "    # Compute the torques\n",
    "    tau = contr.command(ukf_est.x)\n",
    "\n",
    "    if i >= 13:\n",
    "        iL = 0\n",
    "        iR = 0.3\n",
    "    \n",
    "    x_robot = ode4.ode4(model, data, x_robot, dt, tau, iL, iR)\n",
    "    \n",
    "    # Update the UKF\n",
    "    ukf_est.read_measures(x_robot)\n",
    "    ukf_est.compute_sigma_points()\n",
    "    ukf_est.predict(dt)\n",
    "    ukf_est.update()\n",
    "\n",
    "    # Save the robot and estimated positions\n",
    "    robot_pos.append(x_robot)\n",
    "    est_pos.append(ukf_est.x)\n",
    "    slipp_params.append([iL, iR])\n",
    "    est_params.append([ukf_est.x[5], ukf_est.x[6]])\n",
    "\n",
    "robot_pos = np.array(robot_pos)\n",
    "est_pos = np.array(est_pos)\n",
    "\n",
    "\n",
    "\n",
    "# Extracting x and y coordinates\n",
    "x1, y1 = robot_pos[:, 0], robot_pos[:, 1]\n",
    "x2, y2 = est_pos[:, 0], est_pos[:, 1]\n",
    "\n",
    "slip_L, slip_R = np.array(slipp_params)[:, 0], np.array(slipp_params)[:, 1]\n",
    "est_L, est_R = np.array(est_params)[:, 0], np.array(est_params)[:, 1]\n",
    "\n",
    "# Plotting\n",
    "plt.figure(figsize=(8, 6))  # Set the figure size for better visibility\n",
    "#plt.plot(x1, y1, color='blue', label='Robot pos', alpha=0.5)  # Plot points from array1\n",
    "#plt.plot(x2, y2, color='red', label='Estimated', alpha=0.5)  # Plot points from array2\n",
    "\n",
    "plt.plot(slip_L, color='green', label='Slippage Right', alpha=0.5) \n",
    "plt.plot(slip_R, color='blue', label='Slippage Left', alpha=0.5)\n",
    "plt.plot(est_L, color='orange', label='Estimated slippage Right', alpha=0.5)  # Plot points from array2\n",
    "plt.plot(est_R, color='red', label='Estimated slippage Left', alpha=0.5)  # Plot points from array2\n",
    "\n",
    "# Set labels and title\n",
    "plt.xlabel('X axis')\n",
    "plt.ylabel('Y axis')\n",
    "plt.title('Plot of Array 1 and Array 2')\n",
    "\n",
    "# Fix axis scale\n",
    "# plt.axis('equal')  # To keep the aspect ratio consistent\n",
    "\n",
    "\n",
    "plt.legend()  # To add a legend to differentiate the arrays\n",
    "plt.grid(True)  # Optionally, add a grid for better readability\n",
    "plt.show()"
   ]
  }
 ],
 "metadata": {
  "kernelspec": {
   "display_name": "Python 3",
   "language": "python",
   "name": "python3"
  },
  "language_info": {
   "codemirror_mode": {
    "name": "ipython",
    "version": 3
   },
   "file_extension": ".py",
   "mimetype": "text/x-python",
   "name": "python",
   "nbconvert_exporter": "python",
   "pygments_lexer": "ipython3",
   "version": "3.8.10"
  }
 },
 "nbformat": 4,
 "nbformat_minor": 2
}
