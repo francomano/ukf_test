{
 "cells": [
  {
   "cell_type": "code",
   "execution_count": 1,
   "metadata": {},
   "outputs": [],
   "source": [
    "import ode4\n",
    "import controller\n",
    "import ukf\n",
    "import numpy as np\n",
    "import os\n",
    "import pinocchio as pin\n",
    "\n",
    "from ode4 import quat_to_rpy, rpy_to_quat\n",
    "\n",
    "DEBUG = True"
   ]
  },
  {
   "cell_type": "markdown",
   "metadata": {},
   "source": [
    "Build a reduced model of the robot. If, when building the model of pinocchio from the Urdf file, we specify pin.JointModelFreeFlyer(), a special joint representing the floating base is added. This floating base adds 6 more degrees of freedom (nv + 6) that includes the translation in three dimensions (x, y, z) and the rotation in three dimensions (roll, pitch, yaw), that added to the 2 degrees of freedom of the wheels make up a total of 8 dofs."
   ]
  },
  {
   "cell_type": "code",
   "execution_count": 2,
   "metadata": {},
   "outputs": [
    {
     "name": "stdout",
     "output_type": "stream",
     "text": [
      "Reduced model Nb joints = 4 (nq=11,nv=8)\n",
      "  Joint 0 universe: parent=0\n",
      "  Joint 1 root_joint: parent=0\n",
      "  Joint 2 wheel_left_joint: parent=1\n",
      "  Joint 3 wheel_right_joint: parent=1\n",
      "\n"
     ]
    }
   ],
   "source": [
    "# Initialize the robot model and data \n",
    "urdfFile = os.path.join('tiago.urdf')\n",
    "full_model = pin.buildModelFromUrdf(urdfFile, pin.JointModelFreeFlyer())\n",
    "\n",
    "# Base-related joints to keep\n",
    "base_joints_to_keep = [\n",
    "    'universe',             # Must be kept\n",
    "    'root_joint',           # Floating base\n",
    "    'wheel_left_joint',\n",
    "    'wheel_right_joint',\n",
    "]\n",
    "\n",
    "# Get the IDs of all joints to keep and to lock (all joints except the ones to keep)\n",
    "joints_to_keep_ids = [full_model.getJointId(joint) for joint in base_joints_to_keep if full_model.existJointName(joint)]\n",
    "joints_to_lock_ids = [jid for jid in range(full_model.njoints) if jid not in joints_to_keep_ids]\n",
    "\n",
    "# Set initial position for the joints we want to keep; the rest will be locked\n",
    "initial_joint_config = np.zeros(full_model.nq)\n",
    "\n",
    "# Build the reduced model\n",
    "model = pin.buildReducedModel(full_model, joints_to_lock_ids, initial_joint_config)\n",
    "\n",
    "# Check dimensions of the reduced model\n",
    "print('Reduced model', model)\n",
    "\n",
    "# Create the data for the reduced model\n",
    "data = model.createData()"
   ]
  },
  {
   "cell_type": "code",
   "execution_count": 3,
   "metadata": {},
   "outputs": [
    {
     "name": "stdout",
     "output_type": "stream",
     "text": [
      "Base placement:   R =\n",
      "1 0 0\n",
      "0 1 0\n",
      "0 0 1\n",
      "  p = 0 0 0\n",
      "\n",
      "Base rotation: [[1. 0. 0.]\n",
      " [0. 1. 0.]\n",
      " [0. 0. 1.]]\n",
      "Base translation: [0. 0. 0.]\n",
      "\n",
      "Position (x, y, z): [0. 0. 0.]\n",
      "Translation (w, x, y, z): [0. 0. 0. 1.]\n"
     ]
    }
   ],
   "source": [
    "# Get the placement (position and orientation) of the root joint\n",
    "root_joint_placement = data.oMi[model.getJointId('root_joint')]\n",
    "\n",
    "# Print the placement\n",
    "print('Base placement:', root_joint_placement)\n",
    "print('Base rotation:', root_joint_placement.rotation)\n",
    "print('Base translation:', root_joint_placement.translation)\n",
    "\n",
    "# Get the pose (position and orientation) of the root joint in (x, y, z, quat) format\n",
    "root_joint_pose = pin.SE3ToXYZQUAT(root_joint_placement)  \n",
    "\n",
    "# Print position and orientation\n",
    "print(\"\\nPosition (x, y, z):\", root_joint_pose[:3])\n",
    "print(\"Translation (w, x, y, z):\", root_joint_pose[3:])"
   ]
  },
  {
   "cell_type": "code",
   "execution_count": 4,
   "metadata": {},
   "outputs": [],
   "source": [
    "# Initialize robot configuration and velocity\n",
    "q = pin.neutral(model)\n",
    "v = pin.utils.zero(model.nv)\n",
    "\n",
    "# Set the initial configuration and velocity\n",
    "x_robot = np.concatenate((quat_to_rpy(q), v))\n",
    "\n",
    "# Define the controller and UKF objects\n",
    "contr = controller.Controller()\n",
    "ukf_est = ukf.UKF()\n",
    "\n",
    "# Starting configuration and initial state\n",
    "x = [0, 0, 0, 0, 0, 0, 0] # [x, y, theta, iL, iR, omegaLe, omegaRe]\n",
    "\n",
    "# TODO: adjust null space shape size\n",
    "S = np.zeros((16, model.nv))\n",
    "dS = np.zeros_like(S)"
   ]
  },
  {
   "cell_type": "code",
   "execution_count": 5,
   "metadata": {},
   "outputs": [
    {
     "name": "stdout",
     "output_type": "stream",
     "text": [
      "[0. 0. 0. 0. 0. 0. 1. 1. 0. 1. 0.]\n",
      "[0. 0. 0. 0. 0. 0. 0. 0.]\n"
     ]
    }
   ],
   "source": [
    "print(q)\n",
    "print(v)"
   ]
  },
  {
   "cell_type": "code",
   "execution_count": 6,
   "metadata": {},
   "outputs": [
    {
     "name": "stdout",
     "output_type": "stream",
     "text": [
      "JointModelRX\n",
      "  index: 18446744073709551615\n",
      "  index q: -1\n",
      "  index v: -1\n",
      "  nq: 1\n",
      "  nv: 1\n",
      "\n",
      "JointModelFreeFlyer\n",
      "  index: 1\n",
      "  index q: 0\n",
      "  index v: 0\n",
      "  nq: 7\n",
      "  nv: 6\n",
      "\n",
      "JointModelRUBZ\n",
      "  index: 2\n",
      "  index q: 7\n",
      "  index v: 6\n",
      "  nq: 2\n",
      "  nv: 1\n",
      "\n",
      "JointModelRUBZ\n",
      "  index: 3\n",
      "  index q: 9\n",
      "  index v: 7\n",
      "  nq: 2\n",
      "  nv: 1\n",
      "\n"
     ]
    }
   ],
   "source": [
    "for joint in model.joints:\n",
    "    print(joint)"
   ]
  },
  {
   "cell_type": "code",
   "execution_count": 7,
   "metadata": {},
   "outputs": [
    {
     "name": "stdout",
     "output_type": "stream",
     "text": [
      "[ 0.  0.  0.  0. -0.  0.  0.  0.  0.  0.  0.  0.  0.  0.  0.  0.]\n",
      "Torques [10.21202368 18.4486781 ]\n",
      "NU SUZE 8\n",
      "DEQQUUE [0. 0. 0. 0. 0. 0. 0. 0. 0. 0. 0. 0. 0. 0. 0. 0.]\n",
      "Q PINNE [0. 0. 0. 0. 0. 0. 1. 0. 0. 0. 0.]\n",
      "DAMP [[0. 0. 0. 0. 0. 0. 0. 0.]\n",
      " [0. 0. 0. 0. 0. 0. 0. 0.]\n",
      " [0. 0. 0. 0. 0. 0. 0. 0.]\n",
      " [0. 0. 0. 0. 0. 0. 0. 0.]\n",
      " [0. 0. 0. 0. 0. 0. 0. 0.]\n",
      " [0. 0. 0. 0. 0. 0. 0. 0.]\n",
      " [0. 0. 0. 0. 0. 0. 0. 0.]\n",
      " [0. 0. 0. 0. 0. 0. 0. 0.]]\n"
     ]
    },
    {
     "ename": "ValueError",
     "evalue": "shapes (8,8) and (16,) not aligned: 8 (dim 1) != 16 (dim 0)",
     "output_type": "error",
     "traceback": [
      "\u001b[0;31m---------------------------------------------------------------------------\u001b[0m",
      "\u001b[0;31mValueError\u001b[0m                                Traceback (most recent call last)",
      "Cell \u001b[0;32mIn[7], line 18\u001b[0m\n\u001b[1;32m     15\u001b[0m \u001b[38;5;28;01mif\u001b[39;00m DEBUG: \u001b[38;5;28mprint\u001b[39m(\u001b[38;5;124m\"\u001b[39m\u001b[38;5;124mTorques\u001b[39m\u001b[38;5;124m\"\u001b[39m, tau)\n\u001b[1;32m     17\u001b[0m \u001b[38;5;66;03m# Update the state with the ode4 integration\u001b[39;00m\n\u001b[0;32m---> 18\u001b[0m x \u001b[38;5;241m=\u001b[39m \u001b[43mode4\u001b[49m\u001b[38;5;241;43m.\u001b[39;49m\u001b[43mode4\u001b[49m\u001b[43m(\u001b[49m\u001b[43mmodel\u001b[49m\u001b[43m,\u001b[49m\u001b[43m \u001b[49m\u001b[43mdata\u001b[49m\u001b[43m,\u001b[49m\u001b[43m \u001b[49m\u001b[43mx_robot\u001b[49m\u001b[43m,\u001b[49m\u001b[43m \u001b[49m\u001b[43mdt\u001b[49m\u001b[43m,\u001b[49m\u001b[43m \u001b[49m\u001b[43mtau\u001b[49m\u001b[43m,\u001b[49m\u001b[43m \u001b[49m\u001b[43mS\u001b[49m\u001b[43m,\u001b[49m\u001b[43m \u001b[49m\u001b[43mdS\u001b[49m\u001b[43m)\u001b[49m\n\u001b[1;32m     19\u001b[0m \u001b[38;5;66;03m#if DEBUG: print(\"ODE4\", x0)\u001b[39;00m\n\u001b[1;32m     20\u001b[0m \n\u001b[1;32m     21\u001b[0m \u001b[38;5;66;03m# Update starting_conf for the next iteration\u001b[39;00m\n\u001b[0;32m   (...)\u001b[0m\n\u001b[1;32m     24\u001b[0m \u001b[38;5;66;03m#ukf.read_measures() #must be implemented\u001b[39;00m\n\u001b[1;32m     25\u001b[0m \u001b[38;5;66;03m#ukf.compute_sigma_points()\u001b[39;00m\n\u001b[1;32m     27\u001b[0m \u001b[38;5;28;01mif\u001b[39;00m DEBUG: \u001b[38;5;28mprint\u001b[39m(\u001b[38;5;124m\"\u001b[39m\u001b[38;5;124mUKF\u001b[39m\u001b[38;5;124m\"\u001b[39m, ukf_est\u001b[38;5;241m.\u001b[39mx)\n",
      "File \u001b[0;32m~/Documents/ukf_test/ode4.py:58\u001b[0m, in \u001b[0;36mode4\u001b[0;34m(model, data, x0, dt, tau, S, dS)\u001b[0m\n\u001b[1;32m     56\u001b[0m \u001b[38;5;28;01mdef\u001b[39;00m \u001b[38;5;21mode4\u001b[39m(model, data, x0, dt, tau, S, dS):\n\u001b[1;32m     57\u001b[0m     \u001b[38;5;66;03m# compute runge kutta solutions\u001b[39;00m\n\u001b[0;32m---> 58\u001b[0m     s1 \u001b[38;5;241m=\u001b[39m \u001b[43mf\u001b[49m\u001b[43m(\u001b[49m\u001b[43mmodel\u001b[49m\u001b[43m,\u001b[49m\u001b[43m \u001b[49m\u001b[43mdata\u001b[49m\u001b[43m,\u001b[49m\u001b[43m \u001b[49m\u001b[43mS\u001b[49m\u001b[43m,\u001b[49m\u001b[43m \u001b[49m\u001b[43mdS\u001b[49m\u001b[43m,\u001b[49m\u001b[43m \u001b[49m\u001b[43mtau\u001b[49m\u001b[43m,\u001b[49m\u001b[43m \u001b[49m\u001b[43mx0\u001b[49m\u001b[43m)\u001b[49m\n\u001b[1;32m     59\u001b[0m     x1 \u001b[38;5;241m=\u001b[39m x0 \u001b[38;5;241m+\u001b[39m dt\u001b[38;5;241m/\u001b[39m\u001b[38;5;241m2\u001b[39m\u001b[38;5;241m*\u001b[39ms1\n\u001b[1;32m     61\u001b[0m     s2 \u001b[38;5;241m=\u001b[39m f(model, data, S, dS, tau, x1)\n",
      "File \u001b[0;32m~/Documents/ukf_test/ode4.py:44\u001b[0m, in \u001b[0;36mf\u001b[0;34m(model, data, S, dS, tau, x)\u001b[0m\n\u001b[1;32m     41\u001b[0m     Damp[i, i] \u001b[38;5;241m=\u001b[39m model\u001b[38;5;241m.\u001b[39mdamping[i]\n\u001b[1;32m     43\u001b[0m \u001b[38;5;28mprint\u001b[39m(\u001b[38;5;124m\"\u001b[39m\u001b[38;5;124mDAMP\u001b[39m\u001b[38;5;124m\"\u001b[39m, Damp)\n\u001b[0;32m---> 44\u001b[0m \u001b[38;5;28mprint\u001b[39m(\u001b[38;5;124m\"\u001b[39m\u001b[38;5;124mALLHOA\u001b[39m\u001b[38;5;124m\"\u001b[39m, \u001b[43mnp\u001b[49m\u001b[38;5;241;43m.\u001b[39;49m\u001b[43mdot\u001b[49m\u001b[43m(\u001b[49m\u001b[43mDamp\u001b[49m\u001b[43m,\u001b[49m\u001b[43m \u001b[49m\u001b[43mdq\u001b[49m\u001b[43m)\u001b[49m)\n\u001b[1;32m     45\u001b[0m nq \u001b[38;5;241m=\u001b[39m pin\u001b[38;5;241m.\u001b[39mrnea(model, data, q_pin, dq, np\u001b[38;5;241m.\u001b[39mzeros(model\u001b[38;5;241m.\u001b[39mnv)) \u001b[38;5;241m+\u001b[39m np\u001b[38;5;241m.\u001b[39mdot(Damp, dq)\n\u001b[1;32m     47\u001b[0m \u001b[38;5;66;03m# reduced model\u001b[39;00m\n",
      "\u001b[0;31mValueError\u001b[0m: shapes (8,8) and (16,) not aligned: 8 (dim 1) != 16 (dim 0)"
     ]
    }
   ],
   "source": [
    "# Time step\n",
    "dt = 0.1  # Example time step\n",
    "\n",
    "# Loop for the simulation\n",
    "for i in range(100):\n",
    "\n",
    "    pin.computeAllTerms(model, data, q, v)\n",
    "\n",
    "    x_robot = np.concatenate((quat_to_rpy(q), v))\n",
    "\n",
    "    print(x_robot)\n",
    "\n",
    "    # Compute the torques\n",
    "    tau = contr.command(x)\n",
    "    if DEBUG: print(\"Torques\", tau)\n",
    "\n",
    "    # Update the state with the ode4 integration\n",
    "    x = ode4.ode4(model, data, x_robot, dt, tau, S, dS)\n",
    "    #if DEBUG: print(\"ODE4\", x0)\n",
    "    \n",
    "    # Update starting_conf for the next iteration\n",
    "    #starting_conf = x0[:len(starting_conf)]\n",
    "    \n",
    "    #ukf.read_measures() #must be implemented\n",
    "    #ukf.compute_sigma_points()\n",
    "\n",
    "    if DEBUG: print(\"UKF\", ukf_est.x)\n",
    "\n",
    "    break\n",
    "\n",
    "#contr.plot_results()\n"
   ]
  }
 ],
 "metadata": {
  "kernelspec": {
   "display_name": "Python 3",
   "language": "python",
   "name": "python3"
  },
  "language_info": {
   "codemirror_mode": {
    "name": "ipython",
    "version": 3
   },
   "file_extension": ".py",
   "mimetype": "text/x-python",
   "name": "python",
   "nbconvert_exporter": "python",
   "pygments_lexer": "ipython3",
   "version": "3.10.12"
  }
 },
 "nbformat": 4,
 "nbformat_minor": 2
}
