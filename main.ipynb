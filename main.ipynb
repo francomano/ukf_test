{
 "cells": [
  {
   "cell_type": "code",
   "execution_count": 45,
   "metadata": {},
   "outputs": [],
   "source": [
    "import ode4\n",
    "import controller\n",
    "import ukf\n",
    "import numpy as np\n",
    "import os\n",
    "import pinocchio as pin\n",
    "\n",
    "DEBUG = True"
   ]
  },
  {
   "cell_type": "markdown",
   "metadata": {},
   "source": [
    "Build a reduced model of the robot. If, when building the model of pinocchio from the Urdf file, we specify pin.JointModelFreeFlyer(), a special joint representing the floating base is added. This floating base adds 6 more degrees of freedom (nv + 6) that includes the translation in three dimensions (x, y, z) and the rotation in three dimensions (roll, pitch, yaw), that added to the 2 degrees of freedom of the wheels make up a total of 8 dofs."
   ]
  },
  {
   "cell_type": "code",
   "execution_count": 48,
   "metadata": {},
   "outputs": [
    {
     "name": "stdout",
     "output_type": "stream",
     "text": [
      "Reduced model Nb joints = 4 (nq=11,nv=8)\n",
      "  Joint 0 universe: parent=0\n",
      "  Joint 1 root_joint: parent=0\n",
      "  Joint 2 wheel_left_joint: parent=1\n",
      "  Joint 3 wheel_right_joint: parent=1\n",
      "\n"
     ]
    }
   ],
   "source": [
    "# Initialize the robot model and data \n",
    "urdfFile = os.path.join('tiago.urdf')\n",
    "full_model = pin.buildModelFromUrdf(urdfFile, pin.JointModelFreeFlyer())\n",
    "\n",
    "# Base-related joints to keep\n",
    "base_joints_to_keep = [\n",
    "    'universe',             # Must be kept\n",
    "    'root_joint',           # Floating base\n",
    "    'wheel_left_joint',\n",
    "    'wheel_right_joint',\n",
    "]\n",
    "\n",
    "# Get the IDs of all joints to keep and to lock (all joints except the ones to keep)\n",
    "joints_to_keep_ids = [full_model.getJointId(joint) for joint in base_joints_to_keep if full_model.existJointName(joint)]\n",
    "joints_to_lock_ids = [jid for jid in range(full_model.njoints) if jid not in joints_to_keep_ids]\n",
    "\n",
    "# Set initial position for the joints we want to keep; the rest will be locked\n",
    "initial_joint_config = np.zeros(full_model.nq)\n",
    "\n",
    "# Build the reduced model\n",
    "model = pin.buildReducedModel(full_model, joints_to_lock_ids, initial_joint_config)\n",
    "\n",
    "# Check dimensions of the reduced model\n",
    "print('Reduced model', model)\n",
    "\n",
    "# Create the data for the reduced model\n",
    "data = model.createData()"
   ]
  },
  {
   "cell_type": "code",
   "execution_count": 49,
   "metadata": {},
   "outputs": [
    {
     "name": "stdout",
     "output_type": "stream",
     "text": [
      "Base rotation: [[1. 0. 0.]\n",
      " [0. 1. 0.]\n",
      " [0. 0. 1.]]\n",
      "Base translation: [0. 0. 0.]\n",
      "Position (roll, pitc, yaw): [0. 0. 0.]\n",
      "Translation (x, y, z, s): [0. 0. 0. 1.]\n"
     ]
    }
   ],
   "source": [
    "# Get the placement (position and orientation) of the root joint\n",
    "root_joint_placement = data.oMi[model.getJointId('root_joint')]\n",
    "\n",
    "# Print the placement\n",
    "print('Base rotation:', root_joint_placement.rotation)\n",
    "print('Base translation:', root_joint_placement.translation)\n",
    "\n",
    "# Get the pose (position and orientation) of the root joint in (x, y, z, quat) format\n",
    "root_joint_pose = pin.SE3ToXYZQUAT(root_joint_placement)  \n",
    "\n",
    "# Print position and orientation\n",
    "print(\"Position (roll, pitc, yaw):\", root_joint_pose[:3])\n",
    "print(\"Translation (x, y, z, s):\", root_joint_pose[3:])"
   ]
  },
  {
   "cell_type": "code",
   "execution_count": 58,
   "metadata": {},
   "outputs": [],
   "source": [
    "# Initialize robot configuration and velocity\n",
    "q = pin.neutral(model)          # (x, y, z, quat)\n",
    "v = pin.utils.zero(model.nv)\n",
    "\n",
    "# Define the controller and UKF objects\n",
    "contr = controller.Controller()\n",
    "ukf_est = ukf.UKF()\n",
    "\n",
    "# Starting configuration and initial state\n",
    "starting_conf = np.zeros(model.nq)  # [x, y, theta, iL, iR, omegaLe, omegaRe]\n",
    "#x0 = np.array(starting_conf + [0,0,0,0,0,0,0])  # Assuming initial velocities are zero\n",
    "\n",
    "# Null space matrix and its derivative\n",
    "#S = np.zeros((model.nv + len(starting_conf), 2))  # Adjust the size accordingly\n",
    "#dS = np.zeros_like(S)"
   ]
  },
  {
   "cell_type": "code",
   "execution_count": 59,
   "metadata": {},
   "outputs": [
    {
     "name": "stdout",
     "output_type": "stream",
     "text": [
      "[0. 0. 0. 0. 0. 0. 1. 1. 0. 1. 0.]\n"
     ]
    }
   ],
   "source": [
    "print(q)"
   ]
  },
  {
   "cell_type": "code",
   "execution_count": null,
   "metadata": {},
   "outputs": [
    {
     "name": "stdout",
     "output_type": "stream",
     "text": [
      "JointModelRX\n",
      "  index: 18446744073709551615\n",
      "  index q: -1\n",
      "  index v: -1\n",
      "  nq: 1\n",
      "  nv: 1\n",
      "\n",
      "JointModelFreeFlyer\n",
      "  index: 1\n",
      "  index q: 0\n",
      "  index v: 0\n",
      "  nq: 7\n",
      "  nv: 6\n",
      "\n",
      "JointModelRUBZ\n",
      "  index: 2\n",
      "  index q: 7\n",
      "  index v: 6\n",
      "  nq: 2\n",
      "  nv: 1\n",
      "\n",
      "JointModelRUBZ\n",
      "  index: 3\n",
      "  index q: 9\n",
      "  index v: 7\n",
      "  nq: 2\n",
      "  nv: 1\n",
      "\n"
     ]
    }
   ],
   "source": [
    "for joint in model.joints:\n",
    "    print(joint)"
   ]
  },
  {
   "cell_type": "code",
   "execution_count": null,
   "metadata": {},
   "outputs": [],
   "source": [
    "# Time step\n",
    "dt = 0.1  # Example time step\n",
    "\n",
    "# Loop for the simulation\n",
    "for i in range(100):\n",
    "    # Compute the torques\n",
    "    tau = contr.command(starting_conf)\n",
    "    if DEBUG: print(\"Torques\", tau)\n",
    "\n",
    "    # Update the state with the ode4 integration\n",
    "    #x0 = ode4.ode4(model, data, x0, dt, tau, S, dS)\n",
    "    #if DEBUG: print(\"ODE4\", x0)\n",
    "    \n",
    "    # Update starting_conf for the next iteration\n",
    "    #starting_conf = x0[:len(starting_conf)]\n",
    "    \n",
    "    #ukf.read_measures() #must be implemented\n",
    "    #ukf.compute_sigma_points()\n",
    "\n",
    "    if DEBUG: print(\"UKF\", ukf_est.x)\n",
    "\n",
    "    break\n",
    "\n",
    "#contr.plot_results()\n"
   ]
  }
 ],
 "metadata": {
  "kernelspec": {
   "display_name": "Python 3",
   "language": "python",
   "name": "python3"
  },
  "language_info": {
   "codemirror_mode": {
    "name": "ipython",
    "version": 3
   },
   "file_extension": ".py",
   "mimetype": "text/x-python",
   "name": "python",
   "nbconvert_exporter": "python",
   "pygments_lexer": "ipython3",
   "version": "3.10.12"
  }
 },
 "nbformat": 4,
 "nbformat_minor": 2
}
